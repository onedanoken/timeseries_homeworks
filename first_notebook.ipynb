{
 "cells": [
  {
   "cell_type": "code",
   "execution_count": null,
   "metadata": {},
   "outputs": [],
   "source": [
    "!pip install numpy\n",
    "!pip install matplotlib\n",
    "!pip install sounddevice\n",
    "!pip install scipy"
   ]
  },
  {
   "cell_type": "code",
   "execution_count": 3,
   "metadata": {},
   "outputs": [],
   "source": [
    "import numpy as np\n",
    "import matplotlib.pyplot as plt"
   ]
  },
  {
   "cell_type": "markdown",
   "metadata": {},
   "source": [
    "1) Розовый шум"
   ]
  },
  {
   "cell_type": "code",
   "execution_count": 7,
   "metadata": {},
   "outputs": [],
   "source": [
    "duration = 5  # Продолжительность в секундах\n",
    "sample_rate = 44100  # Частота дискретизации в Гц\n",
    "num_samples = int(duration * sample_rate)"
   ]
  },
  {
   "cell_type": "code",
   "execution_count": 34,
   "metadata": {},
   "outputs": [
    {
     "name": "stdout",
     "output_type": "stream",
     "text": [
      "[0.09151168 0.04843151 0.03006456 ... 0.07888775 0.05352187 0.06116473]\n"
     ]
    }
   ],
   "source": [
    "# генерим белый шум\n",
    "white_noise = np.random.normal(loc = 0, scale = 2.5, size = num_samples)\n",
    "\n",
    "# генерим розовый шум\n",
    "fft = np.fft.rfft(white_noise)\n",
    "freqs = np.fft.rfftfreq(num_samples, d=1/sample_rate)\n",
    "amps = np.abs(fft)\n",
    "coefs = np.zeros(freqs.shape)\n",
    "coefs[1:] = 1 / np.sqrt(freqs[1:])\n",
    "pink_amps = amps * coefs\n",
    "pink_fft = pink_amps * np.exp(1j * np.angle(fft))\n",
    "pink_noise = np.real(np.fft.irfft(pink_fft))\n",
    "\n",
    "print(pink_noise)\n"
   ]
  },
  {
   "cell_type": "code",
   "execution_count": null,
   "metadata": {},
   "outputs": [],
   "source": [
    "# отрисовываем, что получилось \n",
    "# создаем временную шкалу. Считаем, что она начинается с 0, до окончания записи (duretion). \n",
    "# Между этими значениями равномерно заполняем ряд time_axis, чтобы в нем оказалось ровно столько элементов, сколько во временном ряду\n",
    "time_axis = np.linspace(0, duration, len(pink_noise)) \n",
    "\n",
    "# заданем параметры полотна, на котором будем рисовать\n",
    "plt.figure(figsize=(20, 6))  \n",
    "\n",
    "# определяем, что будем отрисовывать. По x - time_axis, по y - white_noise_simple\n",
    "plt.plot(time_axis, pink_noise)\n",
    "\n",
    "# заголовки\n",
    "plt.title('Розовый шум')\n",
    "plt.xlabel('Время (секунды)')\n",
    "plt.ylabel('Амплитуда')\n",
    "\n",
    "# команда на отрисовку\n",
    "plt.show()"
   ]
  },
  {
   "cell_type": "markdown",
   "metadata": {},
   "source": [
    "2) Черный шум"
   ]
  },
  {
   "cell_type": "code",
   "execution_count": null,
   "metadata": {},
   "outputs": [],
   "source": [
    "# количество элементов в записи сигнала\n",
    "num_samples = int(duration * sample_rate)\n",
    "freq1 = 20000\n",
    "freq2 = 25000\n",
    "\n",
    "# Частоты, на которых будем генерировать\n",
    "num_frequencies = 100  # Количество случайных частот\n",
    "frequencies = np.linspace(freq1, freq2, num_frequencies) # лист с частотами\n",
    "\n",
    "black_noise = np.zeros(num_samples)   # подготовили лист для записи сигнала\n",
    "time_axis = np.arange(num_samples) / sample_rate   # задали временную ось\n",
    "\n",
    "amplitudes = np.random.normal(0, 1, num_frequencies)  # опять сгенерировали белый гауссовский шум\n",
    "    \n",
    "black_noise = np.zeros(num_samples)\n",
    "time_axis = np.arange(num_samples) / sample_rate\n",
    "    \n",
    "for i in range(num_frequencies):\n",
    "        black_noise += amplitudes[i] * np.sin(2 * np.pi * frequencies[i] * time_axis)\n",
    "    \n",
    "\n",
    "# Визуализация\n",
    "time_axis = np.linspace(0, duration, len(amplitudes))\n",
    "plt.figure(figsize=(20, 6))\n",
    "plt.plot(time_axis, amplitudes)\n",
    "plt.title('Черный шум')\n",
    "plt.xlabel('Время (секунды)')\n",
    "plt.ylabel('Амплитуда')\n",
    "plt.show()"
   ]
  },
  {
   "cell_type": "markdown",
   "metadata": {},
   "source": [
    "3. Генерация сигнала"
   ]
  },
  {
   "cell_type": "code",
   "execution_count": 38,
   "metadata": {},
   "outputs": [],
   "source": [
    "duration = 5  # Продолжительность в секундах\n",
    "sample_rate = 4100  # Частота дискретизации в Гц\n",
    "\n",
    "num_points = duration*sample_rate  # количество точек\n",
    "\n",
    "time_points = np.linspace(0, duration, num_points)  # Создаем равномерные временные точки от 0 до 5 секунд\n",
    "\n",
    "white_noise_base = np.random.normal(0,1,size=num_points)  # Генерим белый шум\n",
    "\n",
    "values = 10*np.sin(time_points*np.pi) # вычисляем амплитуды сигнала\n",
    "\n",
    "values_noise = values + white_noise_base # зашумляем сигнал"
   ]
  },
  {
   "cell_type": "code",
   "execution_count": null,
   "metadata": {},
   "outputs": [],
   "source": [
    "# Отрисовываем\n",
    "# хотим нарисовать все на одном рисунке. Нам нужно 3 рисунка, один под другим.\n",
    "fig, axs = plt.subplots(3, 1, figsize=(20, 10))\n",
    "\n",
    "\n",
    "# общий заголовок для всей картинки\n",
    "fig.suptitle('Сигналы', fontsize=19, fontweight='bold')\n",
    "\n",
    "labels = [\"гауссовский белый шум\", \"Чистый сигнал\", \"Зашумленный сигнал\"]\n",
    "\n",
    "# определяем, что будем отрисовывать на 1 графике. По x - время, по y - амплитуды\n",
    "c0 = axs[0].plot(time_points, white_noise_base, color=\"red\")\n",
    "axs[0].set_xlabel('Время')\n",
    "axs[0].set_ylabel('Амплитуда')\n",
    "\n",
    "# определяем, что будем отрисовывать. По x - время, по y - амплитуды\n",
    "c1 = axs[1].plot(time_points, values, color=\"green\")\n",
    "axs[1].set_xlabel('Время')\n",
    "axs[1].set_ylabel('Амплитуда')\n",
    "\n",
    "# определяем, что будем отрисовывать. По x - время, по y - амплитуды\n",
    "c2 = axs[2].plot(time_points, values_noise, color=\"green\")\n",
    "axs[2].set_xlabel('Время')\n",
    "axs[2].set_ylabel('Амплитуда')\n",
    "\n",
    "# отрисовываем общую легенду\n",
    "fig.legend([c0, c1, c2],\n",
    "           labels=labels,\n",
    "           loc='upper left',\n",
    "           borderaxespad=0.1)\n",
    "\n"
   ]
  }
 ],
 "metadata": {
  "kernelspec": {
   "display_name": ".venv",
   "language": "python",
   "name": "python3"
  },
  "language_info": {
   "codemirror_mode": {
    "name": "ipython",
    "version": 3
   },
   "file_extension": ".py",
   "mimetype": "text/x-python",
   "name": "python",
   "nbconvert_exporter": "python",
   "pygments_lexer": "ipython3",
   "version": "3.10.12"
  },
  "orig_nbformat": 4
 },
 "nbformat": 4,
 "nbformat_minor": 2
}
