{
 "cells": [
  {
   "cell_type": "code",
   "execution_count": 4,
   "metadata": {},
   "outputs": [],
   "source": [
    "import pandas as pd\n",
    "import matplotlib.pyplot  as plt\n",
    "import os"
   ]
  },
  {
   "cell_type": "code",
   "execution_count": 5,
   "metadata": {},
   "outputs": [],
   "source": [
    "dirname = os.path.join(os.path.abspath(os.curdir), 'data')\n",
    "\n",
    "tsdf_b = pd.read_csv(os.path.join(os.sep, dirname, 'gemini_BTCUSD_2020_1min.csv'))\n",
    "tsdf_e = pd.read_csv(os.path.join(os.sep, dirname,  'gemini_ETHUSD_2020_1min.csv'))\n",
    "tsdf_l = pd.read_csv(os.path.join(os.sep, dirname, 'gemini_LTCUSD_2020_1min.csv'))\n",
    "raw_data = (tsdf_b, tsdf_e, tsdf_l)"
   ]
  },
  {
   "cell_type": "code",
   "execution_count": null,
   "metadata": {},
   "outputs": [],
   "source": []
  }
 ],
 "metadata": {
  "kernelspec": {
   "display_name": "venv",
   "language": "python",
   "name": "python3"
  },
  "language_info": {
   "codemirror_mode": {
    "name": "ipython",
    "version": 3
   },
   "file_extension": ".py",
   "mimetype": "text/x-python",
   "name": "python",
   "nbconvert_exporter": "python",
   "pygments_lexer": "ipython3",
   "version": "3.10.0"
  }
 },
 "nbformat": 4,
 "nbformat_minor": 2
}
